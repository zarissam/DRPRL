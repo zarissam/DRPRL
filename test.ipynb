{
 "cells": [
  {
   "cell_type": "code",
   "execution_count": 2,
   "metadata": {},
   "outputs": [],
   "source": [
    "import numpy as np \n",
    "from drp import DRP\n",
    "from environment.state import State\n",
    "from environment.action import Action\n",
    "from environment.cost import Cost\n",
    "from learning.policy import Policy\n",
    "from learning.value_network import ValueNetwork\n",
    "from optimization.milp_solver import MILPSolver"
   ]
  },
  {
   "cell_type": "code",
   "execution_count": 3,
   "metadata": {},
   "outputs": [
    {
     "name": "stderr",
     "output_type": "stream",
     "text": [
      "c:\\Users\\issam\\Desktop\\Files\\PhD\\DRPRL\\venv\\Lib\\site-packages\\openpyxl\\worksheet\\header_footer.py:48: UserWarning: Cannot parse header or footer so it will be ignored\n",
      "  warn(\"\"\"Cannot parse header or footer so it will be ignored\"\"\")\n",
      "c:\\Users\\issam\\Desktop\\Files\\PhD\\DRPRL\\venv\\Lib\\site-packages\\openpyxl\\worksheet\\header_footer.py:48: UserWarning: Cannot parse header or footer so it will be ignored\n",
      "  warn(\"\"\"Cannot parse header or footer so it will be ignored\"\"\")\n",
      "c:\\Users\\issam\\Desktop\\Files\\PhD\\DRPRL\\venv\\Lib\\site-packages\\openpyxl\\worksheet\\header_footer.py:48: UserWarning: Cannot parse header or footer so it will be ignored\n",
      "  warn(\"\"\"Cannot parse header or footer so it will be ignored\"\"\")\n",
      "c:\\Users\\issam\\Desktop\\Files\\PhD\\DRPRL\\venv\\Lib\\site-packages\\openpyxl\\worksheet\\header_footer.py:48: UserWarning: Cannot parse header or footer so it will be ignored\n",
      "  warn(\"\"\"Cannot parse header or footer so it will be ignored\"\"\")\n",
      "c:\\Users\\issam\\Desktop\\Files\\PhD\\DRPRL\\venv\\Lib\\site-packages\\openpyxl\\worksheet\\header_footer.py:48: UserWarning: Cannot parse header or footer so it will be ignored\n",
      "  warn(\"\"\"Cannot parse header or footer so it will be ignored\"\"\")\n",
      "c:\\Users\\issam\\Desktop\\Files\\PhD\\DRPRL\\venv\\Lib\\site-packages\\openpyxl\\worksheet\\header_footer.py:48: UserWarning: Cannot parse header or footer so it will be ignored\n",
      "  warn(\"\"\"Cannot parse header or footer so it will be ignored\"\"\")\n",
      "c:\\Users\\issam\\Desktop\\Files\\PhD\\DRPRL\\venv\\Lib\\site-packages\\openpyxl\\worksheet\\header_footer.py:48: UserWarning: Cannot parse header or footer so it will be ignored\n",
      "  warn(\"\"\"Cannot parse header or footer so it will be ignored\"\"\")\n"
     ]
    },
    {
     "name": "stdout",
     "output_type": "stream",
     "text": [
      "Parsed sheet 'D1' from file 'C:\\\\Users\\\\issam\\\\Desktop\\\\Files\\\\PhD\\\\DRPRL\\\\data\\\\StaticProblemInstances\\\\GroupA\\\\distancematrix_with_20_nodes(seconds).xlsx'\n",
      "Parsed sheet 'D2' from file 'C:\\\\Users\\\\issam\\\\Desktop\\\\Files\\\\PhD\\\\DRPRL\\\\data\\\\StaticProblemInstances\\\\GroupA\\\\distancematrix_with_20_nodes(seconds).xlsx'\n",
      "Parsed sheet 'D3' from file 'C:\\\\Users\\\\issam\\\\Desktop\\\\Files\\\\PhD\\\\DRPRL\\\\data\\\\StaticProblemInstances\\\\GroupA\\\\distancematrix_with_20_nodes(seconds).xlsx'\n",
      "Parsed sheet 'D4' from file 'C:\\\\Users\\\\issam\\\\Desktop\\\\Files\\\\PhD\\\\DRPRL\\\\data\\\\StaticProblemInstances\\\\GroupA\\\\distancematrix_with_20_nodes(seconds).xlsx'\n",
      "Parsed sheet 'D5' from file 'C:\\\\Users\\\\issam\\\\Desktop\\\\Files\\\\PhD\\\\DRPRL\\\\data\\\\StaticProblemInstances\\\\GroupA\\\\distancematrix_with_20_nodes(seconds).xlsx'\n",
      "Parsed sheet 'D6' from file 'C:\\\\Users\\\\issam\\\\Desktop\\\\Files\\\\PhD\\\\DRPRL\\\\data\\\\StaticProblemInstances\\\\GroupA\\\\distancematrix_with_20_nodes(seconds).xlsx'\n",
      "Parsed sheet 'D7' from file 'C:\\\\Users\\\\issam\\\\Desktop\\\\Files\\\\PhD\\\\DRPRL\\\\data\\\\StaticProblemInstances\\\\GroupA\\\\distancematrix_with_20_nodes(seconds).xlsx'\n"
     ]
    },
    {
     "name": "stderr",
     "output_type": "stream",
     "text": [
      "c:\\Users\\issam\\Desktop\\Files\\PhD\\DRPRL\\venv\\Lib\\site-packages\\openpyxl\\worksheet\\header_footer.py:48: UserWarning: Cannot parse header or footer so it will be ignored\n",
      "  warn(\"\"\"Cannot parse header or footer so it will be ignored\"\"\")\n",
      "c:\\Users\\issam\\Desktop\\Files\\PhD\\DRPRL\\venv\\Lib\\site-packages\\openpyxl\\worksheet\\header_footer.py:48: UserWarning: Cannot parse header or footer so it will be ignored\n",
      "  warn(\"\"\"Cannot parse header or footer so it will be ignored\"\"\")\n",
      "c:\\Users\\issam\\Desktop\\Files\\PhD\\DRPRL\\venv\\Lib\\site-packages\\openpyxl\\worksheet\\header_footer.py:48: UserWarning: Cannot parse header or footer so it will be ignored\n",
      "  warn(\"\"\"Cannot parse header or footer so it will be ignored\"\"\")\n",
      "c:\\Users\\issam\\Desktop\\Files\\PhD\\DRPRL\\venv\\Lib\\site-packages\\openpyxl\\worksheet\\header_footer.py:48: UserWarning: Cannot parse header or footer so it will be ignored\n",
      "  warn(\"\"\"Cannot parse header or footer so it will be ignored\"\"\")\n",
      "c:\\Users\\issam\\Desktop\\Files\\PhD\\DRPRL\\venv\\Lib\\site-packages\\openpyxl\\worksheet\\header_footer.py:48: UserWarning: Cannot parse header or footer so it will be ignored\n",
      "  warn(\"\"\"Cannot parse header or footer so it will be ignored\"\"\")\n",
      "c:\\Users\\issam\\Desktop\\Files\\PhD\\DRPRL\\venv\\Lib\\site-packages\\openpyxl\\worksheet\\header_footer.py:48: UserWarning: Cannot parse header or footer so it will be ignored\n",
      "  warn(\"\"\"Cannot parse header or footer so it will be ignored\"\"\")\n",
      "c:\\Users\\issam\\Desktop\\Files\\PhD\\DRPRL\\venv\\Lib\\site-packages\\openpyxl\\worksheet\\header_footer.py:48: UserWarning: Cannot parse header or footer so it will be ignored\n",
      "  warn(\"\"\"Cannot parse header or footer so it will be ignored\"\"\")\n"
     ]
    },
    {
     "name": "stdout",
     "output_type": "stream",
     "text": [
      "Parsed sheet 'D8' from file 'C:\\\\Users\\\\issam\\\\Desktop\\\\Files\\\\PhD\\\\DRPRL\\\\data\\\\StaticProblemInstances\\\\GroupA\\\\distancematrix_with_20_nodes(seconds).xlsx'\n",
      "Parsed sheet 'D9' from file 'C:\\\\Users\\\\issam\\\\Desktop\\\\Files\\\\PhD\\\\DRPRL\\\\data\\\\StaticProblemInstances\\\\GroupA\\\\distancematrix_with_20_nodes(seconds).xlsx'\n",
      "Parsed sheet 'D10' from file 'C:\\\\Users\\\\issam\\\\Desktop\\\\Files\\\\PhD\\\\DRPRL\\\\data\\\\StaticProblemInstances\\\\GroupA\\\\distancematrix_with_20_nodes(seconds).xlsx'\n",
      "Parsed sheet 'D11' from file 'C:\\\\Users\\\\issam\\\\Desktop\\\\Files\\\\PhD\\\\DRPRL\\\\data\\\\StaticProblemInstances\\\\GroupA\\\\distancematrix_with_20_nodes(seconds).xlsx'\n",
      "Parsed sheet 'D12' from file 'C:\\\\Users\\\\issam\\\\Desktop\\\\Files\\\\PhD\\\\DRPRL\\\\data\\\\StaticProblemInstances\\\\GroupA\\\\distancematrix_with_20_nodes(seconds).xlsx'\n",
      "Parsed sheet 'D13' from file 'C:\\\\Users\\\\issam\\\\Desktop\\\\Files\\\\PhD\\\\DRPRL\\\\data\\\\StaticProblemInstances\\\\GroupA\\\\distancematrix_with_20_nodes(seconds).xlsx'\n",
      "Parsed sheet 'D14' from file 'C:\\\\Users\\\\issam\\\\Desktop\\\\Files\\\\PhD\\\\DRPRL\\\\data\\\\StaticProblemInstances\\\\GroupA\\\\distancematrix_with_20_nodes(seconds).xlsx'\n"
     ]
    },
    {
     "name": "stderr",
     "output_type": "stream",
     "text": [
      "c:\\Users\\issam\\Desktop\\Files\\PhD\\DRPRL\\venv\\Lib\\site-packages\\openpyxl\\worksheet\\header_footer.py:48: UserWarning: Cannot parse header or footer so it will be ignored\n",
      "  warn(\"\"\"Cannot parse header or footer so it will be ignored\"\"\")\n",
      "c:\\Users\\issam\\Desktop\\Files\\PhD\\DRPRL\\venv\\Lib\\site-packages\\openpyxl\\worksheet\\header_footer.py:48: UserWarning: Cannot parse header or footer so it will be ignored\n",
      "  warn(\"\"\"Cannot parse header or footer so it will be ignored\"\"\")\n",
      "c:\\Users\\issam\\Desktop\\Files\\PhD\\DRPRL\\venv\\Lib\\site-packages\\openpyxl\\worksheet\\header_footer.py:48: UserWarning: Cannot parse header or footer so it will be ignored\n",
      "  warn(\"\"\"Cannot parse header or footer so it will be ignored\"\"\")\n",
      "c:\\Users\\issam\\Desktop\\Files\\PhD\\DRPRL\\venv\\Lib\\site-packages\\openpyxl\\worksheet\\header_footer.py:48: UserWarning: Cannot parse header or footer so it will be ignored\n",
      "  warn(\"\"\"Cannot parse header or footer so it will be ignored\"\"\")\n",
      "c:\\Users\\issam\\Desktop\\Files\\PhD\\DRPRL\\venv\\Lib\\site-packages\\openpyxl\\worksheet\\header_footer.py:48: UserWarning: Cannot parse header or footer so it will be ignored\n",
      "  warn(\"\"\"Cannot parse header or footer so it will be ignored\"\"\")\n",
      "c:\\Users\\issam\\Desktop\\Files\\PhD\\DRPRL\\venv\\Lib\\site-packages\\openpyxl\\worksheet\\header_footer.py:48: UserWarning: Cannot parse header or footer so it will be ignored\n",
      "  warn(\"\"\"Cannot parse header or footer so it will be ignored\"\"\")\n"
     ]
    },
    {
     "name": "stdout",
     "output_type": "stream",
     "text": [
      "Parsed sheet 'D15' from file 'C:\\\\Users\\\\issam\\\\Desktop\\\\Files\\\\PhD\\\\DRPRL\\\\data\\\\StaticProblemInstances\\\\GroupA\\\\distancematrix_with_20_nodes(seconds).xlsx'\n",
      "Parsed sheet 'D16' from file 'C:\\\\Users\\\\issam\\\\Desktop\\\\Files\\\\PhD\\\\DRPRL\\\\data\\\\StaticProblemInstances\\\\GroupA\\\\distancematrix_with_20_nodes(seconds).xlsx'\n",
      "Parsed sheet 'D17' from file 'C:\\\\Users\\\\issam\\\\Desktop\\\\Files\\\\PhD\\\\DRPRL\\\\data\\\\StaticProblemInstances\\\\GroupA\\\\distancematrix_with_20_nodes(seconds).xlsx'\n",
      "Parsed sheet 'D18' from file 'C:\\\\Users\\\\issam\\\\Desktop\\\\Files\\\\PhD\\\\DRPRL\\\\data\\\\StaticProblemInstances\\\\GroupA\\\\distancematrix_with_20_nodes(seconds).xlsx'\n",
      "Parsed sheet 'D19' from file 'C:\\\\Users\\\\issam\\\\Desktop\\\\Files\\\\PhD\\\\DRPRL\\\\data\\\\StaticProblemInstances\\\\GroupA\\\\distancematrix_with_20_nodes(seconds).xlsx'\n",
      "Parsed sheet 'D20' from file 'C:\\\\Users\\\\issam\\\\Desktop\\\\Files\\\\PhD\\\\DRPRL\\\\data\\\\StaticProblemInstances\\\\GroupA\\\\distancematrix_with_20_nodes(seconds).xlsx'\n"
     ]
    }
   ],
   "source": [
    "excel_path = r\"C:\\\\Users\\\\issam\\\\Desktop\\\\Files\\\\PhD\\\\DRPRL\\\\data\\\\StaticProblemInstances\\\\GroupA\\\\distancematrix_with_20_nodes(seconds).xlsx\"\n",
    "instance_num = 1\n",
    "drp = DRP(excel_path)\n",
    "state = State(drp, instance_num)\n",
    "cost_function = Cost()\n",
    "value_network = ValueNetwork(num_nodes=drp.num_nodes, num_stations=drp.num_stations)\n",
    "policy = Policy(value_network, cost_function)\n",
    "milp_solver = MILPSolver(time_limit=300)"
   ]
  },
  {
   "cell_type": "code",
   "execution_count": 4,
   "metadata": {},
   "outputs": [
    {
     "name": "stdout",
     "output_type": "stream",
     "text": [
      "Restricted license - for non-production use only - expires 2026-11-23\n",
      "Set parameter TimeLimit to value 300\n",
      "Set parameter LazyConstraints to value 1\n",
      "Gurobi Optimizer version 12.0.1 build v12.0.1rc0 (win64 - Windows 11.0 (22631.2))\n",
      "\n",
      "CPU model: 13th Gen Intel(R) Core(TM) i7-13620H, instruction set [SSE2|AVX|AVX2]\n",
      "Thread count: 10 physical cores, 16 logical processors, using up to 16 threads\n",
      "\n",
      "Non-default parameters:\n",
      "TimeLimit  300\n",
      "LazyConstraints  1\n",
      "\n",
      "Optimize a model with 108 rows, 600 columns and 1508 nonzeros\n",
      "Model fingerprint: 0x2f110a76\n",
      "Variable types: 0 continuous, 600 integer (600 binary)\n",
      "Coefficient statistics:\n",
      "  Matrix range     [1e+00, 1e+00]\n",
      "  Objective range  [1e-02, 3e+03]\n",
      "  Bounds range     [1e+00, 1e+00]\n",
      "  RHS range        [1e+00, 1e+00]\n",
      "Presolve removed 68 rows and 64 columns\n",
      "Presolve time: 0.00s\n",
      "Presolved: 40 rows, 536 columns, 894 nonzeros\n",
      "Variable types: 0 continuous, 536 integer (536 binary)\n",
      "\n",
      "Root relaxation: objective 4.106667e+03, 39 iterations, 0.00 seconds (0.00 work units)\n",
      "\n",
      "    Nodes    |    Current Node    |     Objective Bounds      |     Work\n",
      " Expl Unexpl |  Obj  Depth IntInf | Incumbent    BestBd   Gap | It/Node Time\n",
      "\n",
      "     0     0 4106.66688    0    -          - 4106.66688      -     -    0s\n",
      "     0     0 5665.38929    0    -          - 5665.38929      -     -    0s\n",
      "*    0     0               0    5695.7794383 5695.77944  0.00%     -    0s\n",
      "\n",
      "Cutting planes:\n",
      "  Lazy constraints: 16\n",
      "\n",
      "Explored 1 nodes (69 simplex iterations) in 0.03 seconds (0.00 work units)\n",
      "Thread count was 16 (of 16 available processors)\n",
      "\n",
      "Solution count 1: 5695.78 \n",
      "\n",
      "Optimal solution found (tolerance 1.00e-04)\n",
      "Best objective 5.695779438257e+03, best bound 5.695779438257e+03, gap 0.0000%\n",
      "\n",
      "User-callback calls 179, time in user-callback 0.02 sec\n",
      "No solution found\n"
     ]
    }
   ],
   "source": [
    "total_cost = 0\n",
    "route = [state.current_node]\n",
    "while not state.is_terminal():\n",
    "    try :\n",
    "        action = milp_solver.solve_subproblem(state, value_network)\n",
    "        print(f\"State: Node {state.current_node}, Battery: {state.battery_level:.2f}\")\n",
    "        print(f\"Action: {action} (cost: {cost_function(state, action):.2f})\")\n",
    "\n",
    "        action.execute(state)\n",
    "        total_cost += cost_function(state, action)\n",
    "        route.append(state.current_node)\n",
    "\n",
    "    except Exception as e:\n",
    "        print(e)\n",
    "        break"
   ]
  }
 ],
 "metadata": {
  "kernelspec": {
   "display_name": "venv",
   "language": "python",
   "name": "python3"
  },
  "language_info": {
   "codemirror_mode": {
    "name": "ipython",
    "version": 3
   },
   "file_extension": ".py",
   "mimetype": "text/x-python",
   "name": "python",
   "nbconvert_exporter": "python",
   "pygments_lexer": "ipython3",
   "version": "3.11.0"
  }
 },
 "nbformat": 4,
 "nbformat_minor": 2
}
