{
 "cells": [
  {
   "cell_type": "code",
   "execution_count": 23,
   "metadata": {},
   "outputs": [],
   "source": [
    "from typing import List, Set, Tuple\n",
    "import gurobipy as gp\n",
    "from gurobipy import GRB\n",
    "import numpy as np\n",
    "import pandas as pd"
   ]
  },
  {
   "cell_type": "code",
   "execution_count": null,
   "metadata": {},
   "outputs": [],
   "source": [
    "excel_path  = r\"C:\\Users\\issam\\Desktop\\Files\\PhD\\DRPRL\\data\\StaticProblemInstances\\GroupA\\distancematrix_with_20_nodes(seconds).xlsx\"\n",
    "D1 = pd.read_excel(excel_path, sheet_name='D1', header = None).values\n",
    "battery_capacity = 1800\n"
   ]
  },
  {
   "cell_type": "markdown",
   "metadata": {},
   "source": [
    "Model"
   ]
  },
  {
   "cell_type": "code",
   "execution_count": null,
   "metadata": {},
   "outputs": [],
   "source": [
    "model = gp.Model(\"DRP\")\n",
    "model.setParam('TimeLimit', 300)"
   ]
  },
  {
   "cell_type": "markdown",
   "metadata": {},
   "source": [
    "Variables"
   ]
  },
  {
   "cell_type": "code",
   "execution_count": 12,
   "metadata": {},
   "outputs": [],
   "source": [
    "n = len(D1)\n",
    "x = {}\n",
    "for i in range(n):\n",
    "    for j in range(n):  \n",
    "        if i != j:\n",
    "            x[i,j] = model.addVar(vtype=GRB.BINARY, name=f'x_{i}_{j}')"
   ]
  },
  {
   "cell_type": "code",
   "execution_count": null,
   "metadata": {},
   "outputs": [],
   "source": [
    "# Print variable count\n",
    "print(f\"Number of variables: {len(x)}\")"
   ]
  },
  {
   "cell_type": "markdown",
   "metadata": {},
   "source": [
    "objective function "
   ]
  },
  {
   "cell_type": "code",
   "execution_count": 14,
   "metadata": {},
   "outputs": [],
   "source": [
    "obj = gp.quicksum(D1[i,j]*x[i,j] for i,j in x)\n",
    "model.setObjective(obj, GRB.MINIMIZE)"
   ]
  },
  {
   "cell_type": "markdown",
   "metadata": {},
   "source": [
    "constraints <br> flow conservation"
   ]
  },
  {
   "cell_type": "code",
   "execution_count": 15,
   "metadata": {},
   "outputs": [],
   "source": [
    "for h in range(20):\n",
    "    model.addConstr(gp.quicksum(x[i,h] for i in range(n) if i != h) == \n",
    "                    gp.quicksum(x[h,j] for j in range(n) if h != j))"
   ]
  },
  {
   "cell_type": "markdown",
   "metadata": {},
   "source": [
    "visit each customer once "
   ]
  },
  {
   "cell_type": "code",
   "execution_count": 16,
   "metadata": {},
   "outputs": [],
   "source": [
    "for h in range(20) :\n",
    "    model.addConstr(gp.quicksum(x[i,j] for i in range(n) if i!=j) == 1)"
   ]
  },
  {
   "cell_type": "markdown",
   "metadata": {},
   "source": [
    "Battery constraints\n"
   ]
  },
  {
   "cell_type": "code",
   "execution_count": 17,
   "metadata": {},
   "outputs": [],
   "source": [
    "V = set(range(n))\n",
    "battery_var = model.addVars(V, vtype=GRB.CONTINUOUS, name='battery')\n",
    "\n",
    "for i,j in x:\n",
    "    if D1[i,j] > battery_capacity:\n",
    "        model.addConstr(x[i,j] == 0)\n",
    "\n",
    "for i,j in x : \n",
    "    model.addConstr(battery_var[j] <= battery_var[i] - D1[i,j] * x[i,j])\n",
    "\n",
    "# Add stations recharging\n",
    "stations = set(range(20, 25))  # Last 5 nodes are stations\n",
    "for i,j in x:\n",
    "    if j in stations:  # If arriving at station\n",
    "        model.addConstr(battery_var[j] == battery_capacity)  # Full recharge"
   ]
  },
  {
   "cell_type": "markdown",
   "metadata": {},
   "source": [
    "Solve"
   ]
  },
  {
   "cell_type": "code",
   "execution_count": null,
   "metadata": {},
   "outputs": [],
   "source": [
    "model.optimize()"
   ]
  },
  {
   "cell_type": "code",
   "execution_count": null,
   "metadata": {},
   "outputs": [],
   "source": [
    "if model.status == GRB.OPTIMAL:\n",
    "    print(f\"Optimal objective: {model.objVal}\")\n",
    "    print(\"\\nSelected arcs:\")\n",
    "    for i,j in x:\n",
    "        if x[i,j].X > 0.5:\n",
    "            print(f\"{i} -> {j} (cost: {D1[i,j]})\")\n",
    "else: \n",
    "    print(\"No solution found\")"
   ]
  },
  {
   "cell_type": "code",
   "execution_count": null,
   "metadata": {},
   "outputs": [],
   "source": [
    "!python -m pip install -U matplotlib"
   ]
  },
  {
   "cell_type": "code",
   "execution_count": 22,
   "metadata": {},
   "outputs": [],
   "source": [
    "import matplotlib.pyplot as plt"
   ]
  },
  {
   "cell_type": "code",
   "execution_count": 20,
   "metadata": {},
   "outputs": [],
   "source": []
  },
  {
   "cell_type": "code",
   "execution_count": null,
   "metadata": {},
   "outputs": [],
   "source": []
  },
  {
   "cell_type": "code",
   "execution_count": null,
   "metadata": {},
   "outputs": [],
   "source": []
  }
 ],
 "metadata": {
  "kernelspec": {
   "display_name": "venv",
   "language": "python",
   "name": "python3"
  },
  "language_info": {
   "codemirror_mode": {
    "name": "ipython",
    "version": 3
   },
   "file_extension": ".py",
   "mimetype": "text/x-python",
   "name": "python",
   "nbconvert_exporter": "python",
   "pygments_lexer": "ipython3",
   "version": "3.11.0"
  }
 },
 "nbformat": 4,
 "nbformat_minor": 2
}
