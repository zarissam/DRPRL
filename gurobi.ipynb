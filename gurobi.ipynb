{
 "cells": [
  {
   "cell_type": "code",
   "execution_count": 1,
   "metadata": {},
   "outputs": [],
   "source": [
    "from typing import List, Set, Tuple\n",
    "import gurobipy as gp\n",
    "from gurobipy import GRB\n",
    "import numpy as np\n",
    "import pandas as pd"
   ]
  },
  {
   "cell_type": "code",
   "execution_count": 2,
   "metadata": {},
   "outputs": [
    {
     "name": "stderr",
     "output_type": "stream",
     "text": [
      "c:\\Users\\issam\\Desktop\\Files\\PhD\\DRPRL\\venv\\Lib\\site-packages\\openpyxl\\worksheet\\header_footer.py:48: UserWarning: Cannot parse header or footer so it will be ignored\n",
      "  warn(\"\"\"Cannot parse header or footer so it will be ignored\"\"\")\n"
     ]
    }
   ],
   "source": [
    "excel_path  = r\"C:\\Users\\issam\\Desktop\\Files\\PhD\\DRPRL\\data\\StaticProblemInstances\\GroupA\\distancematrix_with_20_nodes(seconds).xlsx\"\n",
    "D1 = pd.read_excel(excel_path, sheet_name='D1', header = None).values\n"
   ]
  },
  {
   "cell_type": "markdown",
   "metadata": {},
   "source": [
    "Model"
   ]
  },
  {
   "cell_type": "code",
   "execution_count": 3,
   "metadata": {},
   "outputs": [
    {
     "name": "stdout",
     "output_type": "stream",
     "text": [
      "Restricted license - for non-production use only - expires 2026-11-23\n",
      "Set parameter TimeLimit to value 60\n"
     ]
    }
   ],
   "source": [
    "model = gp.Model(\"DRP\")\n",
    "model.setParam('TimeLimit', 60)"
   ]
  },
  {
   "cell_type": "markdown",
   "metadata": {},
   "source": [
    "Variables"
   ]
  },
  {
   "cell_type": "code",
   "execution_count": 4,
   "metadata": {},
   "outputs": [],
   "source": [
    "n = len(D1)\n",
    "x = {}\n",
    "for i in range(n):\n",
    "    for j in range(n):  # Only upper triangular\n",
    "        if i != j:\n",
    "            x[i,j] = model.addVar(vtype=GRB.BINARY, name=f'x_{i}_{j}')"
   ]
  },
  {
   "cell_type": "code",
   "execution_count": 5,
   "metadata": {},
   "outputs": [
    {
     "name": "stdout",
     "output_type": "stream",
     "text": [
      "Number of variables: 600\n"
     ]
    }
   ],
   "source": [
    "# Print variable count\n",
    "print(f\"Number of variables: {len(x)}\")"
   ]
  },
  {
   "cell_type": "markdown",
   "metadata": {},
   "source": [
    "objective function "
   ]
  },
  {
   "cell_type": "code",
   "execution_count": 6,
   "metadata": {},
   "outputs": [],
   "source": [
    "obj = gp.quicksum(D1[i,j]*x[i,j] for i,j in x)\n",
    "model.setObjective(obj, GRB.MINIMIZE)"
   ]
  },
  {
   "cell_type": "markdown",
   "metadata": {},
   "source": [
    "constraints <br> flow conservation"
   ]
  },
  {
   "cell_type": "code",
   "execution_count": 7,
   "metadata": {},
   "outputs": [],
   "source": [
    "for h in range(20):\n",
    "    model.addConstr(gp.quicksum(x[i,h] for i in range(n) if i != h) == \n",
    "                    gp.quicksum(x[h,j] for j in range(n) if h != j))"
   ]
  },
  {
   "cell_type": "markdown",
   "metadata": {},
   "source": [
    "visit each customer once "
   ]
  },
  {
   "cell_type": "code",
   "execution_count": 8,
   "metadata": {},
   "outputs": [],
   "source": [
    "for h in range(20) :\n",
    "    model.addConstr(gp.quicksum(x[i,j] for i in range(n) if i!=j) == 1)"
   ]
  },
  {
   "cell_type": "markdown",
   "metadata": {},
   "source": [
    "Solve"
   ]
  },
  {
   "cell_type": "code",
   "execution_count": 9,
   "metadata": {},
   "outputs": [
    {
     "name": "stdout",
     "output_type": "stream",
     "text": [
      "Gurobi Optimizer version 12.0.1 build v12.0.1rc0 (win64 - Windows 11.0 (22631.2))\n",
      "\n",
      "CPU model: 13th Gen Intel(R) Core(TM) i7-13620H, instruction set [SSE2|AVX|AVX2]\n",
      "Thread count: 10 physical cores, 16 logical processors, using up to 16 threads\n",
      "\n",
      "Non-default parameters:\n",
      "TimeLimit  60\n",
      "\n",
      "Optimize a model with 40 rows, 600 columns and 1440 nonzeros\n",
      "Model fingerprint: 0xfc74259d\n",
      "Variable types: 0 continuous, 600 integer (600 binary)\n",
      "Coefficient statistics:\n",
      "  Matrix range     [1e+00, 1e+00]\n",
      "  Objective range  [1e-02, 3e+03]\n",
      "  Bounds range     [1e+00, 1e+00]\n",
      "  RHS range        [1e+00, 1e+00]\n",
      "Found heuristic solution: objective 3122.2386778\n",
      "Presolve removed 19 rows and 19 columns\n",
      "Presolve time: 0.01s\n",
      "Presolved: 21 rows, 581 columns, 981 nonzeros\n",
      "Variable types: 0 continuous, 581 integer (581 binary)\n",
      "\n",
      "Root relaxation: objective 1.329260e+02, 3 iterations, 0.00 seconds (0.00 work units)\n",
      "\n",
      "    Nodes    |    Current Node    |     Objective Bounds      |     Work\n",
      " Expl Unexpl |  Obj  Depth IntInf | Incumbent    BestBd   Gap | It/Node Time\n",
      "\n",
      "*    0     0               0     132.9259516  132.92595  0.00%     -    0s\n",
      "\n",
      "Explored 1 nodes (3 simplex iterations) in 0.02 seconds (0.00 work units)\n",
      "Thread count was 16 (of 16 available processors)\n",
      "\n",
      "Solution count 2: 132.926 3122.24 \n",
      "\n",
      "Optimal solution found (tolerance 1.00e-04)\n",
      "Best objective 1.329259516080e+02, best bound 1.329259516080e+02, gap 0.0000%\n"
     ]
    }
   ],
   "source": [
    "model.optimize()"
   ]
  },
  {
   "cell_type": "code",
   "execution_count": null,
   "metadata": {},
   "outputs": [],
   "source": [
    "if model.status == GRB.OPTIMAL:\n",
    "    print(f\"Optimal objective: {model.objVal}\")\n",
    "    print(\"\\nSelected arcs:\")\n",
    "    for i,j in x:\n",
    "        if x[i,j].X > 0.5:\n",
    "            print(f\"{i} -> {j} (cost: {D1[i,j]})\")\n",
    "else: \n",
    "    print(\"No solution found\")"
   ]
  }
 ],
 "metadata": {
  "kernelspec": {
   "display_name": "venv",
   "language": "python",
   "name": "python3"
  },
  "language_info": {
   "codemirror_mode": {
    "name": "ipython",
    "version": 3
   },
   "file_extension": ".py",
   "mimetype": "text/x-python",
   "name": "python",
   "nbconvert_exporter": "python",
   "pygments_lexer": "ipython3",
   "version": "3.11.0"
  }
 },
 "nbformat": 4,
 "nbformat_minor": 2
}
