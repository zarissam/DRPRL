{
 "cells": [
  {
   "cell_type": "code",
   "execution_count": 1,
   "metadata": {},
   "outputs": [],
   "source": [
    "from typing import List, Set, Tuple\n",
    "import gurobipy as gp\n",
    "from gurobipy import GRB\n",
    "import numpy as np\n",
    "import pandas as pd"
   ]
  },
  {
   "cell_type": "code",
   "execution_count": 2,
   "metadata": {},
   "outputs": [
    {
     "name": "stderr",
     "output_type": "stream",
     "text": [
      "c:\\Users\\issam\\Desktop\\Files\\PhD\\DRPRL\\venv\\Lib\\site-packages\\openpyxl\\worksheet\\header_footer.py:48: UserWarning: Cannot parse header or footer so it will be ignored\n",
      "  warn(\"\"\"Cannot parse header or footer so it will be ignored\"\"\")\n"
     ]
    }
   ],
   "source": [
    "excel_path  = r\"C:\\Users\\issam\\Desktop\\Files\\PhD\\DRPRL\\data\\StaticProblemInstances\\GroupA\\distancematrix_with_20_nodes(seconds).xlsx\"\n",
    "D1 = pd.read_excel(excel_path, sheet_name='D1', header = None).values\n",
    "battery_capacity = 1800\n"
   ]
  },
  {
   "cell_type": "markdown",
   "metadata": {},
   "source": [
    "Model"
   ]
  },
  {
   "cell_type": "code",
   "execution_count": 11,
   "metadata": {},
   "outputs": [
    {
     "name": "stdout",
     "output_type": "stream",
     "text": [
      "Set parameter TimeLimit to value 300\n"
     ]
    }
   ],
   "source": [
    "model = gp.Model(\"DRP\")\n",
    "model.setParam('TimeLimit', 300)"
   ]
  },
  {
   "cell_type": "markdown",
   "metadata": {},
   "source": [
    "Variables"
   ]
  },
  {
   "cell_type": "code",
   "execution_count": 12,
   "metadata": {},
   "outputs": [],
   "source": [
    "n = len(D1)\n",
    "x = {}\n",
    "for i in range(n):\n",
    "    for j in range(n):  \n",
    "        if i != j:\n",
    "            x[i,j] = model.addVar(vtype=GRB.BINARY, name=f'x_{i}_{j}')"
   ]
  },
  {
   "cell_type": "code",
   "execution_count": 13,
   "metadata": {},
   "outputs": [
    {
     "name": "stdout",
     "output_type": "stream",
     "text": [
      "Number of variables: 600\n"
     ]
    }
   ],
   "source": [
    "# Print variable count\n",
    "print(f\"Number of variables: {len(x)}\")"
   ]
  },
  {
   "cell_type": "markdown",
   "metadata": {},
   "source": [
    "objective function "
   ]
  },
  {
   "cell_type": "code",
   "execution_count": 14,
   "metadata": {},
   "outputs": [],
   "source": [
    "obj = gp.quicksum(D1[i,j]*x[i,j] for i,j in x)\n",
    "model.setObjective(obj, GRB.MINIMIZE)"
   ]
  },
  {
   "cell_type": "markdown",
   "metadata": {},
   "source": [
    "constraints <br> flow conservation"
   ]
  },
  {
   "cell_type": "code",
   "execution_count": 15,
   "metadata": {},
   "outputs": [],
   "source": [
    "for h in range(20):\n",
    "    model.addConstr(gp.quicksum(x[i,h] for i in range(n) if i != h) == \n",
    "                    gp.quicksum(x[h,j] for j in range(n) if h != j))"
   ]
  },
  {
   "cell_type": "markdown",
   "metadata": {},
   "source": [
    "visit each customer once "
   ]
  },
  {
   "cell_type": "code",
   "execution_count": 16,
   "metadata": {},
   "outputs": [],
   "source": [
    "for h in range(20) :\n",
    "    model.addConstr(gp.quicksum(x[i,j] for i in range(n) if i!=j) == 1)"
   ]
  },
  {
   "cell_type": "markdown",
   "metadata": {},
   "source": [
    "Battery constraints\n"
   ]
  },
  {
   "cell_type": "code",
   "execution_count": 17,
   "metadata": {},
   "outputs": [],
   "source": [
    "V = set(range(n))\n",
    "battery_var = model.addVars(V, vtype=GRB.CONTINUOUS, name='battery')\n",
    "\n",
    "for i,j in x:\n",
    "    if D1[i,j] > battery_capacity:\n",
    "        model.addConstr(x[i,j] == 0)\n",
    "\n",
    "for i,j in x : \n",
    "    model.addConstr(battery_var[j] <= battery_var[i] - D1[i,j] * x[i,j])\n",
    "\n",
    "# Add stations recharging\n",
    "stations = set(range(20, 25))  # Last 5 nodes are stations\n",
    "for i,j in x:\n",
    "    if j in stations:  # If arriving at station\n",
    "        model.addConstr(battery_var[j] == battery_capacity)  # Full recharge"
   ]
  },
  {
   "cell_type": "markdown",
   "metadata": {},
   "source": [
    "Solve"
   ]
  },
  {
   "cell_type": "code",
   "execution_count": 18,
   "metadata": {},
   "outputs": [
    {
     "name": "stdout",
     "output_type": "stream",
     "text": [
      "Gurobi Optimizer version 12.0.1 build v12.0.1rc0 (win64 - Windows 11.0 (22631.2))\n",
      "\n",
      "CPU model: 13th Gen Intel(R) Core(TM) i7-13620H, instruction set [SSE2|AVX|AVX2]\n",
      "Thread count: 10 physical cores, 16 logical processors, using up to 16 threads\n",
      "\n",
      "Non-default parameters:\n",
      "TimeLimit  300\n",
      "\n",
      "Optimize a model with 808 rows, 625 columns and 3408 nonzeros\n",
      "Model fingerprint: 0x5991ca5b\n",
      "Variable types: 25 continuous, 600 integer (600 binary)\n",
      "Coefficient statistics:\n",
      "  Matrix range     [1e-02, 3e+03]\n",
      "  Objective range  [1e-02, 3e+03]\n",
      "  Bounds range     [1e+00, 1e+00]\n",
      "  RHS range        [1e+00, 2e+03]\n",
      "Presolve removed 768 rows and 625 columns\n",
      "Presolve time: 0.00s\n",
      "\n",
      "Explored 0 nodes (0 simplex iterations) in 0.01 seconds (0.00 work units)\n",
      "Thread count was 1 (of 16 available processors)\n",
      "\n",
      "Solution count 0\n",
      "\n",
      "Model is infeasible\n",
      "Best objective -, best bound -, gap -\n"
     ]
    }
   ],
   "source": [
    "model.optimize()"
   ]
  },
  {
   "cell_type": "code",
   "execution_count": null,
   "metadata": {},
   "outputs": [],
   "source": [
    "if model.status == GRB.OPTIMAL:\n",
    "    print(f\"Optimal objective: {model.objVal}\")\n",
    "    print(\"\\nSelected arcs:\")\n",
    "    for i,j in x:\n",
    "        if x[i,j].X > 0.5:\n",
    "            print(f\"{i} -> {j} (cost: {D1[i,j]})\")\n",
    "else: \n",
    "    print(\"No solution found\")"
   ]
  },
  {
   "cell_type": "code",
   "execution_count": 5,
   "metadata": {},
   "outputs": [
    {
     "name": "stdout",
     "output_type": "stream",
     "text": [
      "Requirement already satisfied: matplotlib in c:\\users\\issam\\desktop\\files\\phd\\drprl\\venv\\lib\\site-packages (3.10.0)"
     ]
    },
    {
     "name": "stderr",
     "output_type": "stream",
     "text": [
      "\n",
      "[notice] A new release of pip available: 22.3 -> 25.0\n",
      "[notice] To update, run: python.exe -m pip install --upgrade pip\n"
     ]
    },
    {
     "name": "stdout",
     "output_type": "stream",
     "text": [
      "\n",
      "Requirement already satisfied: contourpy>=1.0.1 in c:\\users\\issam\\desktop\\files\\phd\\drprl\\venv\\lib\\site-packages (from matplotlib) (1.3.1)\n",
      "Requirement already satisfied: cycler>=0.10 in c:\\users\\issam\\desktop\\files\\phd\\drprl\\venv\\lib\\site-packages (from matplotlib) (0.12.1)\n",
      "Requirement already satisfied: fonttools>=4.22.0 in c:\\users\\issam\\desktop\\files\\phd\\drprl\\venv\\lib\\site-packages (from matplotlib) (4.56.0)\n",
      "Requirement already satisfied: kiwisolver>=1.3.1 in c:\\users\\issam\\desktop\\files\\phd\\drprl\\venv\\lib\\site-packages (from matplotlib) (1.4.8)\n",
      "Requirement already satisfied: numpy>=1.23 in c:\\users\\issam\\desktop\\files\\phd\\drprl\\venv\\lib\\site-packages (from matplotlib) (2.2.2)\n",
      "Requirement already satisfied: packaging>=20.0 in c:\\users\\issam\\desktop\\files\\phd\\drprl\\venv\\lib\\site-packages (from matplotlib) (24.2)\n",
      "Requirement already satisfied: pillow>=8 in c:\\users\\issam\\desktop\\files\\phd\\drprl\\venv\\lib\\site-packages (from matplotlib) (11.1.0)\n",
      "Requirement already satisfied: pyparsing>=2.3.1 in c:\\users\\issam\\desktop\\files\\phd\\drprl\\venv\\lib\\site-packages (from matplotlib) (3.2.1)\n",
      "Requirement already satisfied: python-dateutil>=2.7 in c:\\users\\issam\\desktop\\files\\phd\\drprl\\venv\\lib\\site-packages (from matplotlib) (2.9.0.post0)\n",
      "Requirement already satisfied: six>=1.5 in c:\\users\\issam\\desktop\\files\\phd\\drprl\\venv\\lib\\site-packages (from python-dateutil>=2.7->matplotlib) (1.17.0)\n"
     ]
    }
   ],
   "source": [
    "!python -m pip install -U matplotlib"
   ]
  },
  {
   "cell_type": "code",
   "execution_count": null,
   "metadata": {},
   "outputs": [],
   "source": [
    "import matplotlib.pyplot as plt \n",
    "import networkx as nx"
   ]
  },
  {
   "cell_type": "code",
   "execution_count": 9,
   "metadata": {},
   "outputs": [
    {
     "ename": "NameError",
     "evalue": "name 'x' is not defined",
     "output_type": "error",
     "traceback": [
      "\u001b[1;31m---------------------------------------------------------------------------\u001b[0m",
      "\u001b[1;31mNameError\u001b[0m                                 Traceback (most recent call last)",
      "Cell \u001b[1;32mIn[9], line 1\u001b[0m\n\u001b[1;32m----> 1\u001b[0m \u001b[38;5;28;01mfor\u001b[39;00m i,j \u001b[38;5;129;01min\u001b[39;00m \u001b[43mx\u001b[49m :\n\u001b[0;32m      2\u001b[0m     \u001b[38;5;28;01mif\u001b[39;00m x[i,j]\u001b[38;5;241m.\u001b[39mX \u001b[38;5;241m>\u001b[39m \u001b[38;5;241m0.5\u001b[39m :\n\u001b[0;32m      3\u001b[0m         \u001b[38;5;28mprint\u001b[39m(i,j)\n",
      "\u001b[1;31mNameError\u001b[0m: name 'x' is not defined"
     ]
    }
   ],
   "source": [
    "for i,j in x :\n",
    "    if x[i,j].X > 0.5 :\n",
    "        print(i,j)"
   ]
  }
 ],
 "metadata": {
  "kernelspec": {
   "display_name": "venv",
   "language": "python",
   "name": "python3"
  },
  "language_info": {
   "codemirror_mode": {
    "name": "ipython",
    "version": 3
   },
   "file_extension": ".py",
   "mimetype": "text/x-python",
   "name": "python",
   "nbconvert_exporter": "python",
   "pygments_lexer": "ipython3",
   "version": "3.11.0"
  }
 },
 "nbformat": 4,
 "nbformat_minor": 2
}
